{
 "cells": [
  {
   "cell_type": "code",
   "execution_count": 4,
   "id": "3f2597cc-246d-47b0-a3a2-12ae9aab1b80",
   "metadata": {},
   "outputs": [
    {
     "name": "stderr",
     "output_type": "stream",
     "text": [
      "c:\\Users\\willi\\anaconda3\\envs\\william\\lib\\site-packages\\torchaudio\\backend\\utils.py:74: UserWarning: No audio backend is available.\n",
      "  warnings.warn(\"No audio backend is available.\")\n"
     ]
    }
   ],
   "source": [
    "import torch\n",
    "import torch.nn as nn\n",
    "import numpy as np\n",
    "\n",
    "import os\n",
    "import imageio\n",
    "import matplotlib.pyplot as plt\n",
    "from torch.utils.data import DataLoader\n",
    "\n",
    "from pytorch_lightning import LightningModule, Trainer\n",
    "\n",
    "from opt import get_opts\n",
    "from losses import NeRFLoss\n",
    "\n",
    "from torchmetrics import (\n",
    "    PeakSignalNoiseRatio, \n",
    "    StructuralSimilarityIndexMeasure\n",
    ")\n",
    "\n",
    "from torchmetrics.image.lpip import LearnedPerceptualImagePatchSimilarity"
   ]
  },
  {
   "cell_type": "code",
   "execution_count": null,
   "id": "9776f1a3",
   "metadata": {},
   "outputs": [],
   "source": []
  },
  {
   "cell_type": "code",
   "execution_count": null,
   "id": "e3f18ef5",
   "metadata": {},
   "outputs": [],
   "source": [
    "class NeRFSystem(LightningModule):\n",
    "    def __init__(self, hparams):\n",
    "        super().__init__()\n",
    "        self.save_hyperparameters(hparams)\n",
    "\n",
    "        self.warmup_steps = 256\n",
    "        self.update_interval = 16\n",
    "\n",
    "        self.loss = NeRFLoss(lambda_distortion=self.hparams.distortion_loss_w)\n",
    "        self.train_psnr = PeakSignalNoiseRatio(data_range=1)\n",
    "        self.val_psnr = PeakSignalNoiseRatio(data_range=1)\n",
    "        self.val_ssim = StructuralSimilarityIndexMeasure(data_range=1)\n",
    "        if self.hparams.eval_lpips:\n",
    "            self.val_lpips = LearnedPerceptualImagePatchSimilarity('vgg')\n",
    "            for p in self.val_lpips.net.parameters():\n",
    "                p.requires_grad = False\n",
    "\n",
    "        rgb_act = 'None' if self.hparams.use_exposure else 'Sigmoid' \n",
    "        self.model = NGP(scale=self.hparams.scale, rgb_act=rgb_act)\n",
    "        G = self.model.grid_size\n",
    "        self.model.register_buffer('density_grid',\n",
    "            torch.zeros(self.model.cascades, G**3))\n",
    "        self.model.register_buffer('grid_coords',\n",
    "            create_meshgrid3d(G, G, G, False, dtype=torch.int32).reshape(-1, 3))\n"
   ]
  },
  {
   "cell_type": "code",
   "execution_count": 2,
   "id": "498415ee-07d8-4fed-b9b7-e2a17e889f27",
   "metadata": {},
   "outputs": [
    {
     "name": "stderr",
     "output_type": "stream",
     "text": [
      "usage: ipykernel_launcher.py [-h] --root_dir ROOT_DIR\n",
      "                             [--dataset_name {nerf,nsvf,colmap,nerfpp,rtmv}]\n",
      "                             [--split {train,trainval,trainvaltest}]\n",
      "                             [--downsample DOWNSAMPLE] [--scale SCALE]\n",
      "                             [--use_exposure]\n",
      "                             [--distortion_loss_w DISTORTION_LOSS_W]\n",
      "                             [--batch_size BATCH_SIZE]\n",
      "                             [--ray_sampling_strategy {all_images,same_image}]\n",
      "                             [--num_epochs NUM_EPOCHS] [--num_gpus NUM_GPUS]\n",
      "                             [--lr LR] [--optimize_ext] [--random_bg]\n",
      "                             [--eval_lpips] [--val_only] [--no_save_test]\n",
      "                             [--exp_name EXP_NAME] [--ckpt_path CKPT_PATH]\n",
      "                             [--weight_path WEIGHT_PATH]\n",
      "ipykernel_launcher.py: error: the following arguments are required: --root_dir\n"
     ]
    },
    {
     "ename": "SystemExit",
     "evalue": "2",
     "output_type": "error",
     "traceback": [
      "An exception has occurred, use %tb to see the full traceback.\n",
      "\u001b[1;31mSystemExit\u001b[0m\u001b[1;31m:\u001b[0m 2\n"
     ]
    },
    {
     "name": "stderr",
     "output_type": "stream",
     "text": [
      "c:\\Users\\willi\\anaconda3\\envs\\william\\lib\\site-packages\\IPython\\core\\interactiveshell.py:3534: UserWarning: To exit: use 'exit', 'quit', or Ctrl-D.\n",
      "  warn(\"To exit: use 'exit', 'quit', or Ctrl-D.\", stacklevel=1)\n"
     ]
    }
   ],
   "source": [
    "if __name__ == '__main__':\n",
    "    hparams = get_opts()    # get hyperparameters from command line arguments (opt.py/get_opts())\n",
    "    if hparams.val_only and (not hparams.ckpt_path):\n",
    "        raise ValueError('You need to provide a @ckpt_path for validation!')\n",
    "    system = NeRFSystem(hparams)\n"
   ]
  },
  {
   "cell_type": "code",
   "execution_count": 3,
   "id": "661b1702-95f8-4907-8ba5-9d89bb89d48b",
   "metadata": {},
   "outputs": [],
   "source": []
  },
  {
   "cell_type": "code",
   "execution_count": 4,
   "id": "00a26fa6-7074-44d2-a3f0-261e78b1fb00",
   "metadata": {},
   "outputs": [],
   "source": [
    "model = torch.load('model_nerf').to(device)"
   ]
  },
  {
   "cell_type": "code",
   "execution_count": 5,
   "id": "309abb3d-5763-40e9-8d90-f8878bb22752",
   "metadata": {},
   "outputs": [],
   "source": [
    "def mse2psnr(mse): \n",
    "    return 20 * np.log10(1 / np.sqrt(mse))\n",
    "\n",
    "\n",
    "@torch.no_grad()\n",
    "def test(model, o, d, tn, tf, nb_bins=100, chunk_size=10, H=400, W=400, target=None):\n",
    "    \n",
    "    o = o.chunk(chunk_size)\n",
    "    d = d.chunk(chunk_size)\n",
    "    \n",
    "    image = []\n",
    "    for o_batch, d_batch in zip(o, d):\n",
    "        img_batch = rendering(model, o_batch, d_batch, tn, tf, nb_bins=nb_bins, device=o_batch.device)\n",
    "        image.append(img_batch) # N, 3\n",
    "    image = torch.cat(image)\n",
    "    image = image.reshape(H, W, 3).cpu().numpy()\n",
    "    \n",
    "    if target is not None:\n",
    "        mse = ((image - target)**2).mean()\n",
    "        psnr = mse2psnr(mse)\n",
    "    \n",
    "    if target is not None: \n",
    "        return image, mse, psnr\n",
    "    else:\n",
    "        return image"
   ]
  },
  {
   "cell_type": "code",
   "execution_count": 6,
   "id": "9aa0672a-332f-43c1-8285-f4d1d63101c4",
   "metadata": {},
   "outputs": [
    {
     "name": "stdout",
     "output_type": "stream",
     "text": [
      "28.8992808286121\n"
     ]
    }
   ],
   "source": [
    "img, mse, psnr = test(model, torch.from_numpy(test_o[0]).to(device).float(), torch.from_numpy(test_d[0]).to(device).float(),\n",
    "                tn, tf, nb_bins=100, chunk_size=10, target=test_target_px_values[0].reshape(400, 400, 3))\n",
    "\n",
    "print(psnr)"
   ]
  },
  {
   "cell_type": "code",
   "execution_count": 7,
   "id": "e07ee377-c2b0-420c-bbcd-3e4f2dc04bba",
   "metadata": {},
   "outputs": [
    {
     "data": {
      "text/plain": [
       "<matplotlib.image.AxesImage at 0x7f6f3055ef10>"
      ]
     },
     "execution_count": 7,
     "metadata": {},
     "output_type": "execute_result"
    },
    {
     "data": {
      "image/png": "[encoded data removed]",
      "text/plain": [
       "<Figure size 432x288 with 1 Axes>"
      ]
     },
     "metadata": {
      "needs_background": "light"
     },
     "output_type": "display_data"
    }
   ],
   "source": [
    "plt.imshow(img)"
   ]
  }
 ],
 "metadata": {
  "kernelspec": {
   "display_name": "Python 3 (ipykernel)",
   "language": "python",
   "name": "python3"
  },
  "language_info": {
   "codemirror_mode": {
    "name": "ipython",
    "version": 3
   },
   "file_extension": ".py",
   "mimetype": "text/x-python",
   "name": "python",
   "nbconvert_exporter": "python",
   "pygments_lexer": "ipython3",
   "version": "3.9.18"
  }
 },
 "nbformat": 4,
 "nbformat_minor": 5
}
